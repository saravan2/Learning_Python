{
  "nbformat": 4,
  "nbformat_minor": 0,
  "metadata": {
    "colab": {
      "name": "Sect7_Bootstrapping_StudentVersion.ipynb",
      "provenance": [],
      "collapsed_sections": [],
      "include_colab_link": true
    },
    "kernelspec": {
      "name": "python3",
      "display_name": "Python 3"
    }
  },
  "cells": [
    {
      "cell_type": "markdown",
      "metadata": {
        "id": "view-in-github",
        "colab_type": "text"
      },
      "source": [
        "<a href=\"https://colab.research.google.com/github/saravan2/Learning_Python/blob/master/Sect7_Bootstrapping_StudentVersion.ipynb\" target=\"_parent\"><img src=\"https://colab.research.google.com/assets/colab-badge.svg\" alt=\"Open In Colab\"/></a>"
      ]
    },
    {
      "cell_type": "markdown",
      "metadata": {
        "id": "Tv2flgOjsUK5",
        "colab_type": "text"
      },
      "source": [
        "# Bootstrapping sample statistics\n",
        "\n",
        "This notebook helps you interactive explore bootstrapping. Here, the application is the section problem investigating a difference in sample variance.\n",
        "\n",
        "You will have to write some code to make the notebook work (that's the fun part), but a lot of the tedious part has been done for you :) Look for **TODO** sections to find where you should add code.\n",
        "\n",
        "First thing's first - import numpy and pyplot. Numpy is a great scientific computing library, and matplotlib is great for plotting."
      ]
    },
    {
      "cell_type": "code",
      "metadata": {
        "id": "jPY5QVKAkF25",
        "colab_type": "code",
        "colab": {}
      },
      "source": [
        "import numpy as np\n",
        "import matplotlib.pyplot as plt"
      ],
      "execution_count": null,
      "outputs": []
    },
    {
      "cell_type": "markdown",
      "metadata": {
        "id": "p-I416HNsR8F",
        "colab_type": "text"
      },
      "source": [
        "Next we load in the population data, and make a variable called `whole` to carry both populations' data."
      ]
    },
    {
      "cell_type": "code",
      "metadata": {
        "id": "YENQKoDei9Tk",
        "colab_type": "code",
        "colab": {}
      },
      "source": [
        "a = [13, 12, 7, 16, 9, 11, 7, 10, 9, 8, 9, 7, 16, 7, 9, 8, 13, 10, 11, 9, 13, 13, 10, 10, 9, 7, 7, 6, 7, 8,12, 13, 9, 6, 9, 11, 10, 8, 12, 10, 9, 10, 8, 14, 13, 13, 10, 11, 12, 9]\n",
        "b = [8, 8, 16, 16, 9, 13, 14, 13, 10, 12, 10, 6, 14, 8, 13, 14, 7, 13, 7, 8, 4, 11, 7, 12, 8, 9, 12, 8, 11,10, 12, 6, 10, 15, 11, 12, 3, 8, 11, 10, 10, 8, 12, 8, 11, 6, 7, 10, 8, 5]\n",
        "whole = a + b"
      ],
      "execution_count": null,
      "outputs": []
    },
    {
      "cell_type": "markdown",
      "metadata": {
        "id": "WbNtWvuls16W",
        "colab_type": "text"
      },
      "source": [
        "In the next following cells, you will be responsible for adding code snippets to make the code have the desired functionality. For example, in the code cell below make the `samplestats` function return the population's sample mean and sample variance.\n",
        "\n",
        "**Note:** please make sure you are computing *sample variance* rather than variance. See `np.var`'s `ddof` parameter if you are using numpy."
      ]
    },
    {
      "cell_type": "code",
      "metadata": {
        "id": "VOUxgTQbkXwk",
        "colab_type": "code",
        "colab": {}
      },
      "source": [
        "# this function should return (sample mean, sample variance) of population\n",
        "def samplestats(pop):\n",
        "  #### TODO ####\n",
        "  return None, None\n",
        "\n",
        "pops = [a, b, whole]\n",
        "names = ['a', 'b', 'whole']\n",
        "for pop, name in zip(pops, names):\n",
        "  print(f'Population {name} Statistics:')\n",
        "  mu, var = samplestats(pop)\n",
        "  print(f'Sample Mean = {mu}, Sample Variance = {var}\\n')"
      ],
      "execution_count": null,
      "outputs": []
    },
    {
      "cell_type": "markdown",
      "metadata": {
        "id": "F7xpR1I0tyz3",
        "colab_type": "text"
      },
      "source": [
        "Now we will draw samples from the Devil's advocate's proposed distribution (the null hypothesis) and observe the likelihood of our phenomenon occuring (where the phenomenon corresponds to **absolute value** of difference in variance.)\n",
        "\n",
        "The function `ptest` finds the average likelihood of the null hypothesis over `trials` number of trials."
      ]
    },
    {
      "cell_type": "code",
      "metadata": {
        "id": "oZmkC72VlRT5",
        "colab_type": "code",
        "colab": {}
      },
      "source": [
        "def ptest(trials):\n",
        "  phenomenon_occurs = 0\n",
        "  magdiffs = []\n",
        "  for i in range(trials):\n",
        "    # Step 1) Draw 50 samples from \"whole\" twice, once for each population.\n",
        "    #### TODO ####\n",
        "    \n",
        "    # Step 2) Compute relevant statistics on the samples\n",
        "    #### TODO ####\n",
        "\n",
        "    # Step 3) Compute absolute difference in variance and append that to magdiffs\n",
        "    #### TODO ####\n",
        "    \n",
        "    # Step 4) Test if phenomenon occured (if so, update counter)\n",
        "    #### TODO ####\n",
        "\n",
        "  # (outside loop) return (magdiffs, average likelihood of the null hypothesis)\n",
        "  #### TODO ####\n",
        "  return None\n",
        "\n",
        "magdiffs, pval = ptest(10000)  \n",
        "print('Bootstrapped p-value: {}'.format(pval))\n",
        "  "
      ],
      "execution_count": null,
      "outputs": []
    },
    {
      "cell_type": "markdown",
      "metadata": {
        "id": "XMLwd2EpJMs6",
        "colab_type": "text"
      },
      "source": [
        "You should see a result around 10 or 11 percent. What does this mean?\n",
        "\n",
        "The likelihood of the different populations being samples from the same population is therefore low, but not significantly low (p = 0.05). Remember that the p-value is telling you a probability and that the \"p = 0.05\" threshold is pretty arbitrary.\n",
        "\n",
        "Here is something to think about: when using bootstrapping, isn't the p-value you find a sample statistic? What does that mean about the claims you make with a single value?"
      ]
    },
    {
      "cell_type": "markdown",
      "metadata": {
        "id": "6110ykXBJG6-",
        "colab_type": "text"
      },
      "source": [
        "**Extensions**\n",
        "\n",
        "Let's look more into the randomness inherent in the bootstrapping experiment. First, we plot a histogram of the absolute difference in variance. Also, we draw a vertical line where the the variance difference threshold is. What our p-test bootstrapping code aims to do is to numerically estimate the area under the histogram curve to the right of the threshold. This is called the \"two-tailed\" p-value. "
      ]
    },
    {
      "cell_type": "code",
      "metadata": {
        "id": "yE1jPpj_LM0F",
        "colab_type": "code",
        "colab": {}
      },
      "source": [
        "# plot histogram of the magnitude of variance difference\n",
        "plt.hist(magdiffs, bins=100)\n",
        "plt.axvline(x=3.0, color='r')\n",
        "plt.title('Histogram of absolute variance difference')\n",
        "plt.show()"
      ],
      "execution_count": null,
      "outputs": []
    },
    {
      "cell_type": "markdown",
      "metadata": {
        "id": "jdAHgS6GMtHQ",
        "colab_type": "text"
      },
      "source": [
        "Next, since the p-value itself is drawn from some underlying distribution, we compute the sample mean and the sample variance of the p-value, and plot its histogram.\n",
        "\n",
        "Try changing the parameters of `pvalstatistics` and see what changes."
      ]
    },
    {
      "cell_type": "code",
      "metadata": {
        "id": "gy38pKJ1osAu",
        "colab_type": "code",
        "colab": {}
      },
      "source": [
        "from tqdm import tqdm_notebook as tqdm\n",
        "\n",
        "# samples p-values and computers the sample mean and sample variance of the p-values\n",
        "def pvalstatistics(pvaltrials, bootstraptrials):\n",
        "  pvals = []\n",
        "  for i in tqdm(range(pvaltrials)):\n",
        "    pvals.append(ptest(bootstraptrials)[1])\n",
        "  mu, var = samplestats(pvals)\n",
        "  return pvals, mu, var\n",
        "pvals, mu, var = pvalstatistics(50, 1000)\n",
        "\n",
        "print('Mean of 50 drawn p-values: {}'.format(mu))\n",
        "print('Variance of 50 drawn p-values: {}'.format(var))\n",
        "plt.hist(pvals, bins=50)\n",
        "plt.title('Histogram of pvals, #trials=1000')\n",
        "plt.show()\n"
      ],
      "execution_count": null,
      "outputs": []
    },
    {
      "cell_type": "markdown",
      "metadata": {
        "id": "zTXnHF9dPAwU",
        "colab_type": "text"
      },
      "source": [
        "How many trials do you think are necessary before you can hack a \"significant\" p-value?"
      ]
    }
  ]
}