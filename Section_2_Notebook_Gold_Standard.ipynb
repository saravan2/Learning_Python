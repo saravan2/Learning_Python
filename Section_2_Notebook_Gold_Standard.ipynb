{
  "nbformat": 4,
  "nbformat_minor": 0,
  "metadata": {
    "colab": {
      "name": "Section 2 Notebook Gold Standard",
      "provenance": [],
      "collapsed_sections": [],
      "include_colab_link": true
    },
    "kernelspec": {
      "name": "python3",
      "display_name": "Python 3"
    }
  },
  "cells": [
    {
      "cell_type": "markdown",
      "metadata": {
        "id": "view-in-github",
        "colab_type": "text"
      },
      "source": [
        "<a href=\"https://colab.research.google.com/github/saravan2/Learning_Python/blob/master/Section_2_Notebook_Gold_Standard.ipynb\" target=\"_parent\"><img src=\"https://colab.research.google.com/assets/colab-badge.svg\" alt=\"Open In Colab\"/></a>"
      ]
    },
    {
      "cell_type": "markdown",
      "metadata": {
        "id": "qAPyPR4blHZH",
        "colab_type": "text"
      },
      "source": [
        "# Section 2 Notebook\n",
        "In this notebook we will reason about recent presidential approval poll data. We will explore how the concepts of conditional probability, Law of Total Probability and Bayes' Theorem help us better understand a simple survey. Along the way we will learn how the Python data analysis library `pandas` facilitates easy manipulation of data tables.\n",
        "\n",
        "**Learning Goals:**\n",
        "1. Analyze poll data with conditional probability, Law of Total Probability and Bayes' Theorem\n",
        "2. Learn some basic `pandas` skills"
      ]
    },
    {
      "cell_type": "markdown",
      "metadata": {
        "id": "s3nJNGPzjLrf",
        "colab_type": "text"
      },
      "source": [
        "# Poll Data - Presidential Approval\n",
        "**Problem:** You collect data on whether or not people approve of President Trump, a potential candidate in the upcoming election. We have collected real poll data  from the last 13 CNN polls, which can be found [here](https://www.realclearpolitics.com/epolls/other/president_trump_job_approval-6179.html) (link directly to the CNN poll [here](https://cdn.cnn.com/cnn/2020/images/01/20/rel1a.-.trump,.impeachment.pdf)).\n",
        "\n",
        "Let $A$ be the event that a person says they approve of the way President Trump is handling his job as president. Let $M$ be the event that a user answered \"No opinion.\" We are interested in estimating $P(A)$, however that is hard given the small but significant number of users who answered \"No opinion\". \n",
        "\n",
        "**Note 1:** We assume in our model that given enough information the \"No opinion\" users would make an approve/disapprove decision.\n",
        "\n",
        "**Note 2:** The latest CNN poll (Jan 16-19, 2020) had a sample of 1156 respondents. For simplicity we will assume all polls also had this sample size."
      ]
    },
    {
      "cell_type": "code",
      "metadata": {
        "id": "8Cs8BZp6d9XB",
        "colab_type": "code",
        "colab": {}
      },
      "source": [
        "dates = ['Jan', 'Feb', 'Mar', 'Apr', 'May', 'June', 'Aug', 'Sep', 'Oct', 'Nov', 'Dec', 'Jan2020']\n",
        "data = {}\n",
        "data['approve'] = [37, 40, 42, 43, 43, 43, 40, 39, 41, 42, 43, 43]\n",
        "data['disapprove'] = [57, 55, 51, 52, 52, 52, 54, 55, 57, 54, 53, 53]\n",
        "data['no_opinion'] = [7, 5, 8, 5, 5, 5, 6, 6, 2, 4, 4, 4]"
      ],
      "execution_count": null,
      "outputs": []
    },
    {
      "cell_type": "code",
      "metadata": {
        "id": "17ERTD32fzy-",
        "colab_type": "code",
        "colab": {
          "base_uri": "https://localhost:8080/",
          "height": 405
        },
        "outputId": "6905cfd8-d552-4fd3-fc69-88236673f666"
      },
      "source": [
        "import pandas as pd\n",
        "\n",
        "polldf = pd.DataFrame(data, index=dates)\n",
        "polldf"
      ],
      "execution_count": null,
      "outputs": [
        {
          "output_type": "execute_result",
          "data": {
            "text/html": [
              "<div>\n",
              "<style scoped>\n",
              "    .dataframe tbody tr th:only-of-type {\n",
              "        vertical-align: middle;\n",
              "    }\n",
              "\n",
              "    .dataframe tbody tr th {\n",
              "        vertical-align: top;\n",
              "    }\n",
              "\n",
              "    .dataframe thead th {\n",
              "        text-align: right;\n",
              "    }\n",
              "</style>\n",
              "<table border=\"1\" class=\"dataframe\">\n",
              "  <thead>\n",
              "    <tr style=\"text-align: right;\">\n",
              "      <th></th>\n",
              "      <th>approve</th>\n",
              "      <th>disapprove</th>\n",
              "      <th>no_opinion</th>\n",
              "    </tr>\n",
              "  </thead>\n",
              "  <tbody>\n",
              "    <tr>\n",
              "      <th>Jan</th>\n",
              "      <td>37</td>\n",
              "      <td>57</td>\n",
              "      <td>7</td>\n",
              "    </tr>\n",
              "    <tr>\n",
              "      <th>Feb</th>\n",
              "      <td>40</td>\n",
              "      <td>55</td>\n",
              "      <td>5</td>\n",
              "    </tr>\n",
              "    <tr>\n",
              "      <th>Mar</th>\n",
              "      <td>42</td>\n",
              "      <td>51</td>\n",
              "      <td>8</td>\n",
              "    </tr>\n",
              "    <tr>\n",
              "      <th>Apr</th>\n",
              "      <td>43</td>\n",
              "      <td>52</td>\n",
              "      <td>5</td>\n",
              "    </tr>\n",
              "    <tr>\n",
              "      <th>May</th>\n",
              "      <td>43</td>\n",
              "      <td>52</td>\n",
              "      <td>5</td>\n",
              "    </tr>\n",
              "    <tr>\n",
              "      <th>June</th>\n",
              "      <td>43</td>\n",
              "      <td>52</td>\n",
              "      <td>5</td>\n",
              "    </tr>\n",
              "    <tr>\n",
              "      <th>Aug</th>\n",
              "      <td>40</td>\n",
              "      <td>54</td>\n",
              "      <td>6</td>\n",
              "    </tr>\n",
              "    <tr>\n",
              "      <th>Sep</th>\n",
              "      <td>39</td>\n",
              "      <td>55</td>\n",
              "      <td>6</td>\n",
              "    </tr>\n",
              "    <tr>\n",
              "      <th>Oct</th>\n",
              "      <td>41</td>\n",
              "      <td>57</td>\n",
              "      <td>2</td>\n",
              "    </tr>\n",
              "    <tr>\n",
              "      <th>Nov</th>\n",
              "      <td>42</td>\n",
              "      <td>54</td>\n",
              "      <td>4</td>\n",
              "    </tr>\n",
              "    <tr>\n",
              "      <th>Dec</th>\n",
              "      <td>43</td>\n",
              "      <td>53</td>\n",
              "      <td>4</td>\n",
              "    </tr>\n",
              "    <tr>\n",
              "      <th>Jan2020</th>\n",
              "      <td>43</td>\n",
              "      <td>53</td>\n",
              "      <td>4</td>\n",
              "    </tr>\n",
              "  </tbody>\n",
              "</table>\n",
              "</div>"
            ],
            "text/plain": [
              "         approve  disapprove  no_opinion\n",
              "Jan           37          57           7\n",
              "Feb           40          55           5\n",
              "Mar           42          51           8\n",
              "Apr           43          52           5\n",
              "May           43          52           5\n",
              "June          43          52           5\n",
              "Aug           40          54           6\n",
              "Sep           39          55           6\n",
              "Oct           41          57           2\n",
              "Nov           42          54           4\n",
              "Dec           43          53           4\n",
              "Jan2020       43          53           4"
            ]
          },
          "metadata": {
            "tags": []
          },
          "execution_count": 24
        }
      ]
    },
    {
      "cell_type": "markdown",
      "metadata": {
        "id": "2UTnRJN0hItG",
        "colab_type": "text"
      },
      "source": [
        "## a) **For each month**, what is the fraction of users who responded with their opinion $P(M^C)$?"
      ]
    },
    {
      "cell_type": "code",
      "metadata": {
        "id": "g7hGTp8bgyL5",
        "colab_type": "code",
        "colab": {
          "base_uri": "https://localhost:8080/",
          "height": 234
        },
        "outputId": "35ae3ee3-8d1f-4324-baca-943bdaf6575b"
      },
      "source": [
        "(polldf['approve'] + polldf['disapprove']) / polldf.sum(axis=1)"
      ],
      "execution_count": null,
      "outputs": [
        {
          "output_type": "execute_result",
          "data": {
            "text/plain": [
              "Jan        0.930693\n",
              "Feb        0.950000\n",
              "Mar        0.920792\n",
              "Apr        0.950000\n",
              "May        0.950000\n",
              "June       0.950000\n",
              "Aug        0.940000\n",
              "Sep        0.940000\n",
              "Oct        0.980000\n",
              "Nov        0.960000\n",
              "Dec        0.960000\n",
              "Jan2020    0.960000\n",
              "dtype: float64"
            ]
          },
          "metadata": {
            "tags": []
          },
          "execution_count": 20
        }
      ]
    },
    {
      "cell_type": "markdown",
      "metadata": {
        "id": "bXSgbZ3Lh_ry",
        "colab_type": "text"
      },
      "source": [
        "## b) For each month, what is the probability that a user said they approve, given that they responded to the poll $P(A|M^C)$?\n"
      ]
    },
    {
      "cell_type": "code",
      "metadata": {
        "id": "KNLiJswCh_OG",
        "colab_type": "code",
        "colab": {
          "base_uri": "https://localhost:8080/",
          "height": 234
        },
        "outputId": "4956edab-473b-439e-c731-a7a556293a68"
      },
      "source": [
        "polldf['approve'] / (polldf['approve'] + polldf['disapprove'])"
      ],
      "execution_count": null,
      "outputs": [
        {
          "output_type": "execute_result",
          "data": {
            "text/plain": [
              "Jan        0.393617\n",
              "Feb        0.421053\n",
              "Mar        0.451613\n",
              "Apr        0.452632\n",
              "May        0.452632\n",
              "June       0.452632\n",
              "Aug        0.425532\n",
              "Sep        0.414894\n",
              "Oct        0.418367\n",
              "Nov        0.437500\n",
              "Dec        0.447917\n",
              "Jan2020    0.447917\n",
              "dtype: float64"
            ]
          },
          "metadata": {
            "tags": []
          },
          "execution_count": 21
        }
      ]
    },
    {
      "cell_type": "markdown",
      "metadata": {
        "id": "B6pprjV_ioVn",
        "colab_type": "text"
      },
      "source": [
        "## c) Compute $P(A)$ under the following assumptions:\n",
        "1. $P(A|M) = P(A|M^C)$. That is, people with no opinion will have similar approval ratios as the others.\n",
        "2. $P(A|M) = 0$. That is, people with no opinion actually disapprove.\n",
        "3. $P(A^C|M) = 0$. That is, people with no opinion actually approve."
      ]
    },
    {
      "cell_type": "markdown",
      "metadata": {
        "id": "TKBBnO57qmNQ",
        "colab_type": "text"
      },
      "source": [
        "**Solution:** \n",
        "1. $P(A) = P(A|M^C)*P(M) + P(A|M^C)*P(M^C) = P(A|M^C) $\n",
        "2. $P(A) = P(A|M^C)*P(M^C)$\n",
        "2. $P(A) = 1 - P(A^C) = 1 - P(A^C|M^C)*P(M^C)$"
      ]
    },
    {
      "cell_type": "code",
      "metadata": {
        "id": "-bzrToKVhowW",
        "colab_type": "code",
        "colab": {
          "base_uri": "https://localhost:8080/",
          "height": 405
        },
        "outputId": "03621f74-e5b5-4ef4-be38-dcd0bf225ed4"
      },
      "source": [
        "polldf['P(A) w/ A.1'] =  polldf['approve'] / (polldf['approve'] + polldf['disapprove']) # Same as (b)\n",
        "polldf['P(A) w/ A.2'] = 0.85 * polldf['approve'] / (polldf['approve'] + polldf['disapprove'])\n",
        "polldf['P(A) w/ A.3'] = 1 - 0.85 * polldf['disapprove'] / (polldf['approve'] + polldf['disapprove'])\n",
        "polldf"
      ],
      "execution_count": null,
      "outputs": [
        {
          "output_type": "execute_result",
          "data": {
            "text/html": [
              "<div>\n",
              "<style scoped>\n",
              "    .dataframe tbody tr th:only-of-type {\n",
              "        vertical-align: middle;\n",
              "    }\n",
              "\n",
              "    .dataframe tbody tr th {\n",
              "        vertical-align: top;\n",
              "    }\n",
              "\n",
              "    .dataframe thead th {\n",
              "        text-align: right;\n",
              "    }\n",
              "</style>\n",
              "<table border=\"1\" class=\"dataframe\">\n",
              "  <thead>\n",
              "    <tr style=\"text-align: right;\">\n",
              "      <th></th>\n",
              "      <th>approve</th>\n",
              "      <th>disapprove</th>\n",
              "      <th>no_opinion</th>\n",
              "      <th>P(A) w/ A.1</th>\n",
              "      <th>P(A) w/ A.2</th>\n",
              "      <th>P(A) w/ A.3</th>\n",
              "    </tr>\n",
              "  </thead>\n",
              "  <tbody>\n",
              "    <tr>\n",
              "      <th>Jan</th>\n",
              "      <td>37</td>\n",
              "      <td>57</td>\n",
              "      <td>7</td>\n",
              "      <td>0.393617</td>\n",
              "      <td>0.334574</td>\n",
              "      <td>0.484574</td>\n",
              "    </tr>\n",
              "    <tr>\n",
              "      <th>Feb</th>\n",
              "      <td>40</td>\n",
              "      <td>55</td>\n",
              "      <td>5</td>\n",
              "      <td>0.421053</td>\n",
              "      <td>0.357895</td>\n",
              "      <td>0.507895</td>\n",
              "    </tr>\n",
              "    <tr>\n",
              "      <th>Mar</th>\n",
              "      <td>42</td>\n",
              "      <td>51</td>\n",
              "      <td>8</td>\n",
              "      <td>0.451613</td>\n",
              "      <td>0.383871</td>\n",
              "      <td>0.533871</td>\n",
              "    </tr>\n",
              "    <tr>\n",
              "      <th>Apr</th>\n",
              "      <td>43</td>\n",
              "      <td>52</td>\n",
              "      <td>5</td>\n",
              "      <td>0.452632</td>\n",
              "      <td>0.384737</td>\n",
              "      <td>0.534737</td>\n",
              "    </tr>\n",
              "    <tr>\n",
              "      <th>May</th>\n",
              "      <td>43</td>\n",
              "      <td>52</td>\n",
              "      <td>5</td>\n",
              "      <td>0.452632</td>\n",
              "      <td>0.384737</td>\n",
              "      <td>0.534737</td>\n",
              "    </tr>\n",
              "    <tr>\n",
              "      <th>June</th>\n",
              "      <td>43</td>\n",
              "      <td>52</td>\n",
              "      <td>5</td>\n",
              "      <td>0.452632</td>\n",
              "      <td>0.384737</td>\n",
              "      <td>0.534737</td>\n",
              "    </tr>\n",
              "    <tr>\n",
              "      <th>Aug</th>\n",
              "      <td>40</td>\n",
              "      <td>54</td>\n",
              "      <td>6</td>\n",
              "      <td>0.425532</td>\n",
              "      <td>0.361702</td>\n",
              "      <td>0.511702</td>\n",
              "    </tr>\n",
              "    <tr>\n",
              "      <th>Sep</th>\n",
              "      <td>39</td>\n",
              "      <td>55</td>\n",
              "      <td>6</td>\n",
              "      <td>0.414894</td>\n",
              "      <td>0.352660</td>\n",
              "      <td>0.502660</td>\n",
              "    </tr>\n",
              "    <tr>\n",
              "      <th>Oct</th>\n",
              "      <td>41</td>\n",
              "      <td>57</td>\n",
              "      <td>2</td>\n",
              "      <td>0.418367</td>\n",
              "      <td>0.355612</td>\n",
              "      <td>0.505612</td>\n",
              "    </tr>\n",
              "    <tr>\n",
              "      <th>Nov</th>\n",
              "      <td>42</td>\n",
              "      <td>54</td>\n",
              "      <td>4</td>\n",
              "      <td>0.437500</td>\n",
              "      <td>0.371875</td>\n",
              "      <td>0.521875</td>\n",
              "    </tr>\n",
              "    <tr>\n",
              "      <th>Dec</th>\n",
              "      <td>43</td>\n",
              "      <td>53</td>\n",
              "      <td>4</td>\n",
              "      <td>0.447917</td>\n",
              "      <td>0.380729</td>\n",
              "      <td>0.530729</td>\n",
              "    </tr>\n",
              "    <tr>\n",
              "      <th>Jan2020</th>\n",
              "      <td>43</td>\n",
              "      <td>53</td>\n",
              "      <td>4</td>\n",
              "      <td>0.447917</td>\n",
              "      <td>0.380729</td>\n",
              "      <td>0.530729</td>\n",
              "    </tr>\n",
              "  </tbody>\n",
              "</table>\n",
              "</div>"
            ],
            "text/plain": [
              "         approve  disapprove  no_opinion  P(A) w/ A.1  P(A) w/ A.2  P(A) w/ A.3\n",
              "Jan           37          57           7     0.393617     0.334574     0.484574\n",
              "Feb           40          55           5     0.421053     0.357895     0.507895\n",
              "Mar           42          51           8     0.451613     0.383871     0.533871\n",
              "Apr           43          52           5     0.452632     0.384737     0.534737\n",
              "May           43          52           5     0.452632     0.384737     0.534737\n",
              "June          43          52           5     0.452632     0.384737     0.534737\n",
              "Aug           40          54           6     0.425532     0.361702     0.511702\n",
              "Sep           39          55           6     0.414894     0.352660     0.502660\n",
              "Oct           41          57           2     0.418367     0.355612     0.505612\n",
              "Nov           42          54           4     0.437500     0.371875     0.521875\n",
              "Dec           43          53           4     0.447917     0.380729     0.530729\n",
              "Jan2020       43          53           4     0.447917     0.380729     0.530729"
            ]
          },
          "metadata": {
            "tags": []
          },
          "execution_count": 22
        }
      ]
    },
    {
      "cell_type": "markdown",
      "metadata": {
        "id": "ZgGeYAXFxGZ-",
        "colab_type": "text"
      },
      "source": [
        "## d) Discuss: Which of the assumptions do you think is best? What assumptions would you employ in practice, or what other data would you gather to support arguments using this survey data?"
      ]
    }
  ]
}