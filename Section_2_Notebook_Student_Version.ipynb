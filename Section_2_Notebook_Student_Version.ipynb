{
  "nbformat": 4,
  "nbformat_minor": 0,
  "metadata": {
    "colab": {
      "name": "Section 2 Notebook Student Version",
      "provenance": [],
      "collapsed_sections": [],
      "include_colab_link": true
    },
    "kernelspec": {
      "name": "python3",
      "display_name": "Python 3"
    }
  },
  "cells": [
    {
      "cell_type": "markdown",
      "metadata": {
        "id": "view-in-github",
        "colab_type": "text"
      },
      "source": [
        "<a href=\"https://colab.research.google.com/github/saravan2/Learning_Python/blob/master/Section_2_Notebook_Student_Version.ipynb\" target=\"_parent\"><img src=\"https://colab.research.google.com/assets/colab-badge.svg\" alt=\"Open In Colab\"/></a>"
      ]
    },
    {
      "cell_type": "markdown",
      "metadata": {
        "id": "qAPyPR4blHZH",
        "colab_type": "text"
      },
      "source": [
        "# Section 2 Notebook\n",
        "In this notebook we will reason about recent presidential approval poll data. We will explore how the concepts of conditional probability, Law of Total Probability and Bayes' Theorem help us better understand a simple survey. Along the way we will learn how the Python data analysis library `pandas` facilitates easy manipulation of data tables.\n",
        "\n",
        "**Learning Goals:**\n",
        "1. Analyze poll data with conditional probability, Law of Total Probability and Bayes' Theorem\n",
        "2. Learn some basic `pandas` skills"
      ]
    },
    {
      "cell_type": "markdown",
      "metadata": {
        "id": "s3nJNGPzjLrf",
        "colab_type": "text"
      },
      "source": [
        "# Poll Data - Presidential Approval\n",
        "**Problem:** You collect data on whether or not people approve of President Trump, a potential candidate in the upcoming election. We have collected real poll data  from the last 13 CNN polls, which can be found [here](https://www.realclearpolitics.com/epolls/other/president_trump_job_approval-6179.html) (link directly to the CNN poll [here](https://cdn.cnn.com/cnn/2020/images/01/20/rel1a.-.trump,.impeachment.pdf)).\n",
        "\n",
        "Let $A$ be the event that a person says they approve of the way President Trump is handling his job as president. Let $M$ be the event that a user answered \"No opinion.\" We are interested in estimating $P(A)$, however that is hard given the small but significant number of users who answered \"No opinion\". \n",
        "\n",
        "**Note 1:** We assume in our model that given enough information the \"No opinion\" users would make an approve/disapprove decision.\n",
        "\n",
        "**Note 2:** The latest CNN poll (Jan 16-19, 2020) had a sample of 1156 respondents. For simplicity we will assume all polls also had this sample size."
      ]
    },
    {
      "cell_type": "code",
      "metadata": {
        "id": "8Cs8BZp6d9XB",
        "colab_type": "code",
        "colab": {}
      },
      "source": [
        "num_respondents = 1156\n",
        "\n",
        "\n",
        "dates = ['Jan', 'Feb', 'Mar', 'Apr', 'May', 'June', 'Aug', 'Sep', 'Oct', 'Nov', 'Dec', 'Jan2020']\n",
        "data = {}\n",
        "data['approve'] = [37, 40, 42, 43, 43, 43, 40, 39, 41, 42, 43, 43]\n",
        "data['disapprove'] = [57, 55, 51, 52, 52, 52, 54, 55, 57, 54, 53, 53]\n",
        "data['no_opinion'] = [7, 5, 8, 5, 5, 5, 6, 6, 2, 4, 4, 4]"
      ],
      "execution_count": null,
      "outputs": []
    },
    {
      "cell_type": "markdown",
      "metadata": {
        "id": "dMH69gjFzJ_x",
        "colab_type": "text"
      },
      "source": [
        "In the below cell, import `pandas` and make a [DataFrame object](https://pandas.pydata.org/pandas-docs/stable/reference/api/pandas.DataFrame.html) using the above poll data and using the `dates` list as the `index`.\n",
        "\n",
        "Then, display the data by printing your DataFrame object.\n",
        "\n",
        "**Hint:** Instead of using `print`, try using the DataFrame variable name alone on a single line at the end of the cell. It will look prettier :)"
      ]
    },
    {
      "cell_type": "code",
      "metadata": {
        "id": "17ERTD32fzy-",
        "colab_type": "code",
        "colab": {}
      },
      "source": [
        "import pandas as pd\n",
        "\n",
        "polldf = # TODO\n",
        "polldf"
      ],
      "execution_count": null,
      "outputs": []
    },
    {
      "cell_type": "markdown",
      "metadata": {
        "id": "2UTnRJN0hItG",
        "colab_type": "text"
      },
      "source": [
        "## a) **For each month**, what is the fraction of users who responded with their opinion $P(M^C)$?"
      ]
    },
    {
      "cell_type": "markdown",
      "metadata": {
        "id": "MxRqFY2bz-_P",
        "colab_type": "text"
      },
      "source": [
        "Using your DataFrame object created above, compute $P(M^C)$. See [pandas.DataFrame.sum](https://pandas.pydata.org/pandas-docs/stable/reference/api/pandas.DataFrame.sum.html) to sum rows or columns of the table.\n",
        "\n",
        "**Hint:** Try accessing the DataFrame using its column names and then doing elementwise vector math. For example, use `polldf['approve'] / ...` instead of `for` loops."
      ]
    },
    {
      "cell_type": "code",
      "metadata": {
        "id": "g7hGTp8bgyL5",
        "colab_type": "code",
        "colab": {}
      },
      "source": [
        "# TODO"
      ],
      "execution_count": null,
      "outputs": []
    },
    {
      "cell_type": "markdown",
      "metadata": {
        "id": "bXSgbZ3Lh_ry",
        "colab_type": "text"
      },
      "source": [
        "## b) For each month, what is the probability that a user said they approve, given that they responded to the poll $P(A|M^C)$?\n"
      ]
    },
    {
      "cell_type": "markdown",
      "metadata": {
        "id": "BUQzyTTi0wN8",
        "colab_type": "text"
      },
      "source": [
        "You know the drill :)"
      ]
    },
    {
      "cell_type": "code",
      "metadata": {
        "id": "KNLiJswCh_OG",
        "colab_type": "code",
        "colab": {}
      },
      "source": [
        "# TODO"
      ],
      "execution_count": null,
      "outputs": []
    },
    {
      "cell_type": "markdown",
      "metadata": {
        "id": "B6pprjV_ioVn",
        "colab_type": "text"
      },
      "source": [
        "## c) Compute $P(A)$ under the following assumptions:\n",
        "1. $P(A|M) = P(A|M^C)$. That is, people with no opinion will have similar approval ratios as the others.\n",
        "2. $P(A|M) = 0$. That is, people with no opinion actually disapprove.\n",
        "3. $P(A^C|M) = 0$. That is, people with no opinion actually approve."
      ]
    },
    {
      "cell_type": "code",
      "metadata": {
        "id": "-bzrToKVhowW",
        "colab_type": "code",
        "colab": {}
      },
      "source": [
        "polldf['P(A) w/ A.1'] =  # TODO\n",
        "polldf['P(A) w/ A.2'] = # TODO\n",
        "polldf['P(A) w/ A.3'] = # TODO\n",
        "polldf"
      ],
      "execution_count": null,
      "outputs": []
    },
    {
      "cell_type": "markdown",
      "metadata": {
        "id": "ZgGeYAXFxGZ-",
        "colab_type": "text"
      },
      "source": [
        "## d) Discuss: Which of the assumptions do you think is best? What assumptions would you employ in practice, or what other data would you gather to support arguments using this survey data?"
      ]
    }
  ]
}